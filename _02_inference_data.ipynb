{
 "cells": [
  {
   "cell_type": "code",
   "execution_count": null,
   "id": "145d4ac7-cc15-423a-a70c-8ea29b981208",
   "metadata": {},
   "outputs": [],
   "source": [
    "!pip install torch\n",
    "!pip install transformers"
   ]
  },
  {
   "cell_type": "code",
   "execution_count": 1,
   "id": "e714ca0d-c3e2-4c63-af03-5fca54ffd142",
   "metadata": {},
   "outputs": [],
   "source": [
    "import torch\n",
    "import numpy as np\n",
    "import pandas as pd\n",
    "from transformers import AutoTokenizer, AutoModelForSequenceClassification\n",
    "\n",
    "device = torch.device(\"cuda\" if torch.cuda.is_available() else \"cpu\")"
   ]
  },
  {
   "cell_type": "markdown",
   "id": "912c2f40-a458-493d-a04e-d3d51a1eb420",
   "metadata": {},
   "source": [
    "# Transformer-based Emotion Classification in German Political Text"
   ]
  },
  {
   "cell_type": "markdown",
   "id": "7e705714-d00b-4a3c-9ca6-4b216a625222",
   "metadata": {},
   "source": [
    "## Load model and tokenizer"
   ]
  },
  {
   "cell_type": "code",
   "execution_count": 2,
   "id": "2c6508f3-7f60-4798-b217-dacf60925f5f",
   "metadata": {},
   "outputs": [],
   "source": [
    "# Load model and tokenizer\n",
    "tokenizer = AutoTokenizer.from_pretrained(\"mawic/electra-german-emotions\")\n",
    "model = AutoModelForSequenceClassification.from_pretrained(\"mawic/electra-german-emotions\")"
   ]
  },
  {
   "cell_type": "markdown",
   "id": "298b9b8d-4452-435c-9a6c-7b2ca4c14842",
   "metadata": {},
   "source": [
    "## Load data (2 options)"
   ]
  },
  {
   "cell_type": "markdown",
   "id": "96c273b7-a3ab-4f8a-aaa7-0ae993a792f6",
   "metadata": {},
   "source": [
    "### Data from a list"
   ]
  },
  {
   "cell_type": "code",
   "execution_count": 3,
   "id": "972895ba-8021-4730-a4ef-c7082f9ca5ff",
   "metadata": {},
   "outputs": [],
   "source": [
    "documents = [\n",
    "    \"Sanktionen sind immer die schlechteste Option für alle Beteiligten.\",\n",
    "    'Fremdenfeindlichkeit  Rassismus  Hass und Ressentiments im Bundestag?',\n",
    "    \"Das muss auch die ehemalige Weinkönigin verstehen.\",\n",
    "    \"Deshalb: DIE LINKE wählen  z.B. am 28.\",\n",
    "    \"Die große Koalition bringt nun einen Antrag für das internationale Abkommen in den Bundestag ein.\",\n",
    "]"
   ]
  },
  {
   "cell_type": "markdown",
   "id": "904935b0-2eb1-4cc5-a221-c6c190c140f2",
   "metadata": {},
   "source": [
    "### Load data from a file "
   ]
  },
  {
   "cell_type": "code",
   "execution_count": 6,
   "id": "6b70dc5a-5718-402b-a64f-41e5b91cfeef",
   "metadata": {},
   "outputs": [
    {
     "name": "stdout",
     "output_type": "stream",
     "text": [
      "huggingface/tokenizers: The current process just got forked, after parallelism has already been used. Disabling parallelism to avoid deadlocks...\n",
      "To disable this warning, you can either:\n",
      "\t- Avoid using `tokenizers` before the fork if possible\n",
      "\t- Explicitly set the environment variable TOKENIZERS_PARALLELISM=(true | false)\n",
      "--2021-10-28 12:20:13--  https://raw.githubusercontent.com/mawic/emotion-classification-german-political-text/main/data/example_inference_data.csv\n",
      "Resolving raw.githubusercontent.com (raw.githubusercontent.com)... 185.199.108.133, 185.199.109.133, 185.199.110.133, ...\n",
      "Connecting to raw.githubusercontent.com (raw.githubusercontent.com)|185.199.108.133|:443... connected.\n",
      "HTTP request sent, awaiting response... 200 OK\n",
      "Length: 333 [text/plain]\n",
      "Saving to: ‘example_inference_data.csv’\n",
      "\n",
      "example_inference_d 100%[===================>]     333  --.-KB/s    in 0s      \n",
      "\n",
      "2021-10-28 12:20:14 (23.0 MB/s) - ‘example_inference_data.csv’ saved [333/333]\n",
      "\n"
     ]
    }
   ],
   "source": [
    "!wget https://raw.githubusercontent.com/mawic/emotion-classification-german-political-text/main/data/example_inference_data.csv\n",
    "with open('example_inference_data.csv') as f:\n",
    "    documents = f.read().splitlines()"
   ]
  },
  {
   "cell_type": "markdown",
   "id": "850dc3eb-15a7-46cf-9820-df770e8eef4f",
   "metadata": {},
   "source": [
    "## Define function for inferecing"
   ]
  },
  {
   "cell_type": "code",
   "execution_count": 4,
   "id": "226f07cb-c0eb-4076-af20-d50e5dbab972",
   "metadata": {},
   "outputs": [],
   "source": [
    "# do NOT change this list\n",
    "emotions = [\"anger\",\"fear\",\"disgust\",\"sadness\",\"joy\",\"enthusiasm\",\"pride\",\"hope\"]\n",
    "\n",
    "# function for splitting list of text in smaller parts\n",
    "# necessary for batches\n",
    "def chunks(lst, n):\n",
    "    for i in range(0, len(lst), n):\n",
    "        yield lst[i:i + n]\n",
    "        \n",
    "# inference function\n",
    "def predict(x, batch_size = 32, binary=True):\n",
    "    val = []\n",
    "    batches = list(chunks(x,batch_size))\n",
    "    for batch in batches:\n",
    "        # tokenize document\n",
    "        inputs = tokenizer(\n",
    "            batch, truncation=True, padding=True, return_tensors=\"pt\"\n",
    "        )\n",
    "        inputs = inputs.to(device=device)\n",
    "        # inference\n",
    "        with torch.no_grad():\n",
    "            outputs = model(**inputs)\n",
    "        logits = outputs.logits\n",
    "        prediction = logits.sigmoid()\n",
    "        if binary:\n",
    "            prediction[prediction >= 0.5] = 1\n",
    "            prediction[prediction < 0.5] = 0\n",
    "        prediction = prediction.detach().cpu().numpy()\n",
    "        val.extend(prediction)\n",
    "        inputs = inputs.to(device='cpu')\n",
    "        del inputs, prediction, outputs\n",
    "    return np.array(val)\n",
    "\n",
    "# returns a pandas dataframe with the text and predicted emotions\n",
    "def predict_dataframe(x, batch_size = 32, binary=True):\n",
    "    predictions = predict(x,batch_size=batch_size,binary=binary)\n",
    "    list_for_df = []\n",
    "    for i in range(len(x)):\n",
    "        row = [*[x[i]], *predictions[i]]\n",
    "        list_for_df.append(row)\n",
    "    columns = [\"text\"] + emotions\n",
    "    return pd.DataFrame(list_for_df, columns=columns)"
   ]
  },
  {
   "cell_type": "markdown",
   "id": "14646a06-eaab-41c5-961c-ac4968abcc7d",
   "metadata": {},
   "source": [
    "## Inference data"
   ]
  },
  {
   "cell_type": "code",
   "execution_count": 5,
   "id": "be61ec78-073c-4a83-9fdf-43f92435e86c",
   "metadata": {},
   "outputs": [
    {
     "data": {
      "text/html": [
       "<div>\n",
       "<style scoped>\n",
       "    .dataframe tbody tr th:only-of-type {\n",
       "        vertical-align: middle;\n",
       "    }\n",
       "\n",
       "    .dataframe tbody tr th {\n",
       "        vertical-align: top;\n",
       "    }\n",
       "\n",
       "    .dataframe thead th {\n",
       "        text-align: right;\n",
       "    }\n",
       "</style>\n",
       "<table border=\"1\" class=\"dataframe\">\n",
       "  <thead>\n",
       "    <tr style=\"text-align: right;\">\n",
       "      <th></th>\n",
       "      <th>text</th>\n",
       "      <th>anger</th>\n",
       "      <th>fear</th>\n",
       "      <th>disgust</th>\n",
       "      <th>sadness</th>\n",
       "      <th>joy</th>\n",
       "      <th>enthusiasm</th>\n",
       "      <th>pride</th>\n",
       "      <th>hope</th>\n",
       "    </tr>\n",
       "  </thead>\n",
       "  <tbody>\n",
       "    <tr>\n",
       "      <th>0</th>\n",
       "      <td>Sanktionen sind immer die schlechteste Option ...</td>\n",
       "      <td>1.0</td>\n",
       "      <td>1.0</td>\n",
       "      <td>0.0</td>\n",
       "      <td>0.0</td>\n",
       "      <td>0.0</td>\n",
       "      <td>0.0</td>\n",
       "      <td>0.0</td>\n",
       "      <td>0.0</td>\n",
       "    </tr>\n",
       "    <tr>\n",
       "      <th>1</th>\n",
       "      <td>Fremdenfeindlichkeit  Rassismus  Hass und Ress...</td>\n",
       "      <td>1.0</td>\n",
       "      <td>1.0</td>\n",
       "      <td>1.0</td>\n",
       "      <td>1.0</td>\n",
       "      <td>0.0</td>\n",
       "      <td>0.0</td>\n",
       "      <td>0.0</td>\n",
       "      <td>0.0</td>\n",
       "    </tr>\n",
       "    <tr>\n",
       "      <th>2</th>\n",
       "      <td>Das muss auch die ehemalige Weinkönigin verste...</td>\n",
       "      <td>0.0</td>\n",
       "      <td>0.0</td>\n",
       "      <td>0.0</td>\n",
       "      <td>0.0</td>\n",
       "      <td>0.0</td>\n",
       "      <td>0.0</td>\n",
       "      <td>0.0</td>\n",
       "      <td>0.0</td>\n",
       "    </tr>\n",
       "    <tr>\n",
       "      <th>3</th>\n",
       "      <td>Deshalb: DIE LINKE wählen  z.B. am 28.</td>\n",
       "      <td>0.0</td>\n",
       "      <td>0.0</td>\n",
       "      <td>0.0</td>\n",
       "      <td>0.0</td>\n",
       "      <td>0.0</td>\n",
       "      <td>0.0</td>\n",
       "      <td>0.0</td>\n",
       "      <td>0.0</td>\n",
       "    </tr>\n",
       "    <tr>\n",
       "      <th>4</th>\n",
       "      <td>Die große Koalition bringt nun einen Antrag fü...</td>\n",
       "      <td>0.0</td>\n",
       "      <td>0.0</td>\n",
       "      <td>0.0</td>\n",
       "      <td>0.0</td>\n",
       "      <td>1.0</td>\n",
       "      <td>0.0</td>\n",
       "      <td>1.0</td>\n",
       "      <td>0.0</td>\n",
       "    </tr>\n",
       "  </tbody>\n",
       "</table>\n",
       "</div>"
      ],
      "text/plain": [
       "                                                text  anger  fear  disgust  \\\n",
       "0  Sanktionen sind immer die schlechteste Option ...    1.0   1.0      0.0   \n",
       "1  Fremdenfeindlichkeit  Rassismus  Hass und Ress...    1.0   1.0      1.0   \n",
       "2  Das muss auch die ehemalige Weinkönigin verste...    0.0   0.0      0.0   \n",
       "3             Deshalb: DIE LINKE wählen  z.B. am 28.    0.0   0.0      0.0   \n",
       "4  Die große Koalition bringt nun einen Antrag fü...    0.0   0.0      0.0   \n",
       "\n",
       "   sadness  joy  enthusiasm  pride  hope  \n",
       "0      0.0  0.0         0.0    0.0   0.0  \n",
       "1      1.0  0.0         0.0    0.0   0.0  \n",
       "2      0.0  0.0         0.0    0.0   0.0  \n",
       "3      0.0  0.0         0.0    0.0   0.0  \n",
       "4      0.0  1.0         0.0    1.0   0.0  "
      ]
     },
     "execution_count": 5,
     "metadata": {},
     "output_type": "execute_result"
    }
   ],
   "source": [
    "predict_dataframe(documents)"
   ]
  }
 ],
 "metadata": {
  "environment": {
   "kernel": "python3",
   "name": "common-cu110.m82",
   "type": "gcloud",
   "uri": "gcr.io/deeplearning-platform-release/base-cu110:m82"
  },
  "kernelspec": {
   "display_name": "Python 3",
   "language": "python",
   "name": "python3"
  },
  "language_info": {
   "codemirror_mode": {
    "name": "ipython",
    "version": 3
   },
   "file_extension": ".py",
   "mimetype": "text/x-python",
   "name": "python",
   "nbconvert_exporter": "python",
   "pygments_lexer": "ipython3",
   "version": "3.7.10"
  }
 },
 "nbformat": 4,
 "nbformat_minor": 5
}
