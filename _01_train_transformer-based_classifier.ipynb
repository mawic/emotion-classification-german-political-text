{
 "cells": [
  {
   "cell_type": "code",
   "execution_count": 1,
   "id": "fitting-patio",
   "metadata": {},
   "outputs": [],
   "source": [
    "import json\n",
    "import pickle\n",
    "import subprocess\n",
    "import time\n",
    "\n",
    "import datasets\n",
    "import numpy as np\n",
    "import pandas as pd\n",
    "import torch\n",
    "import transformers\n",
    "from datasets import Dataset\n",
    "from sklearn.model_selection import train_test_split\n",
    "from tqdm.notebook import tqdm\n",
    "from transformers import (\n",
    "    AutoModel,\n",
    "    AutoModelForSequenceClassification,\n",
    "    AutoTokenizer,\n",
    "    Trainer,\n",
    "    TrainingArguments,\n",
    "    set_seed,\n",
    ")\n",
    "from transformers.modeling_outputs import SequenceClassifierOutput\n",
    "from transformers.trainer_callback import EarlyStoppingCallback\n",
    "\n",
    "import helper.training as tr\n",
    "\n",
    "pd.set_option(\"display.precision\", 3)"
   ]
  },
  {
   "cell_type": "markdown",
   "id": "multiple-certificate",
   "metadata": {},
   "source": [
    "### Settings"
   ]
  },
  {
   "cell_type": "code",
   "execution_count": 2,
   "id": "selective-backup",
   "metadata": {},
   "outputs": [],
   "source": [
    "MODEL_NAME = \"german-nlp-group/electra-base-german-uncased\"\n",
    "DIR_OUTPT = \"./results\"\n",
    "DIR_LOG = \"./logs\"\n",
    "DIR_TRAINED_MODEL = \"./models/final\"\n",
    "SIZE_VALIDATION_SET = 0.1\n",
    "SEED = 7"
   ]
  },
  {
   "cell_type": "code",
   "execution_count": 3,
   "id": "front-counter",
   "metadata": {},
   "outputs": [],
   "source": [
    "set_seed(SEED)"
   ]
  },
  {
   "cell_type": "markdown",
   "id": "radio-commonwealth",
   "metadata": {},
   "source": [
    "## Prepare dataset"
   ]
  },
  {
   "cell_type": "markdown",
   "id": "moved-current",
   "metadata": {},
   "source": [
    "### Load data"
   ]
  },
  {
   "cell_type": "code",
   "execution_count": 4,
   "id": "identified-confusion",
   "metadata": {},
   "outputs": [
    {
     "name": "stdout",
     "output_type": "stream",
     "text": [
      "Size of training set:\t 8017\n",
      "Size of validation set:\t 891\n",
      "Size of test set:\t 990\n"
     ]
    }
   ],
   "source": [
    "columns_a = [\"Text\", \"type\", \"sentences\"]\n",
    "emotions = [\n",
    "    \"hf_anger\",\n",
    "    \"hf_fear\",\n",
    "    \"hf_disgust\",\n",
    "    \"hf_sadness\",\n",
    "    \"hf_joy\",\n",
    "    \"hf_enthusiasm\",\n",
    "    \"hf_pride\",\n",
    "    \"hf_hope\",\n",
    "]\n",
    "\n",
    "df_train_validation = pd.read_pickle(\"./data/labeled_training_data_df.pkl\")\n",
    "df_train_validation = df_train_validation[columns_a + emotions]\n",
    "df_train_validation = df_train_validation.astype(\n",
    "    {\n",
    "        \"hf_anger\": int,\n",
    "        \"hf_fear\": int,\n",
    "        \"hf_disgust\": int,\n",
    "        \"hf_sadness\": int,\n",
    "        \"hf_joy\": int,\n",
    "        \"hf_enthusiasm\": int,\n",
    "        \"hf_pride\": int,\n",
    "        \"hf_hope\": int,\n",
    "        \"type\": str,\n",
    "    }\n",
    ")\n",
    "df_train_validation[\"list\"] = df_train_validation.apply(\n",
    "    lambda x: [\n",
    "        x[\"hf_anger\"],\n",
    "        x[\"hf_fear\"],\n",
    "        x[\"hf_disgust\"],\n",
    "        x[\"hf_sadness\"],\n",
    "        x[\"hf_joy\"],\n",
    "        x[\"hf_enthusiasm\"],\n",
    "        x[\"hf_pride\"],\n",
    "        x[\"hf_hope\"],\n",
    "    ],\n",
    "    axis=1,\n",
    ")\n",
    "df_test = pd.read_pickle(\"./data/labeled_test_data_df.pkl\")\n",
    "# df_train_validation = df_train_validation.sample(n=1000)\n",
    "df_test = df_test[columns_a + emotions]\n",
    "df_test = df_test.astype(\n",
    "    {\n",
    "        \"hf_anger\": int,\n",
    "        \"hf_fear\": int,\n",
    "        \"hf_disgust\": int,\n",
    "        \"hf_sadness\": int,\n",
    "        \"hf_joy\": int,\n",
    "        \"hf_enthusiasm\": int,\n",
    "        \"hf_pride\": int,\n",
    "        \"hf_hope\": int,\n",
    "        \"type\": str,\n",
    "    }\n",
    ")\n",
    "df_test[\"list\"] = df_test.apply(\n",
    "    lambda x: [\n",
    "        x[\"hf_anger\"],\n",
    "        x[\"hf_fear\"],\n",
    "        x[\"hf_disgust\"],\n",
    "        x[\"hf_sadness\"],\n",
    "        x[\"hf_joy\"],\n",
    "        x[\"hf_enthusiasm\"],\n",
    "        x[\"hf_pride\"],\n",
    "        x[\"hf_hope\"],\n",
    "    ],\n",
    "    axis=1,\n",
    ")\n",
    "\n",
    "df_train, df_validation = train_test_split(\n",
    "    df_train_validation, test_size=0.1, random_state=SEED\n",
    ")\n",
    "\n",
    "print(\"Size of training set:\\t\", len(df_train))\n",
    "print(\"Size of validation set:\\t\", len(df_validation))\n",
    "print(\"Size of test set:\\t\", len(df_test))"
   ]
  },
  {
   "cell_type": "markdown",
   "id": "palestinian-automation",
   "metadata": {},
   "source": [
    "### Convert to Dataset format"
   ]
  },
  {
   "cell_type": "code",
   "execution_count": 5,
   "id": "tracked-virgin",
   "metadata": {},
   "outputs": [
    {
     "data": {
      "application/vnd.jupyter.widget-view+json": {
       "model_id": "ab357fc16afd4f1b9958228b065a9632",
       "version_major": 2,
       "version_minor": 0
      },
      "text/plain": [
       "HBox(children=(FloatProgress(value=0.0, max=1.0), HTML(value='')))"
      ]
     },
     "metadata": {},
     "output_type": "display_data"
    },
    {
     "name": "stdout",
     "output_type": "stream",
     "text": [
      "\n"
     ]
    },
    {
     "data": {
      "application/vnd.jupyter.widget-view+json": {
       "model_id": "8e0188d14a2e497a9a3d24b68828a9a4",
       "version_major": 2,
       "version_minor": 0
      },
      "text/plain": [
       "HBox(children=(FloatProgress(value=0.0, max=1.0), HTML(value='')))"
      ]
     },
     "metadata": {},
     "output_type": "display_data"
    },
    {
     "name": "stdout",
     "output_type": "stream",
     "text": [
      "\n"
     ]
    }
   ],
   "source": [
    "dataset_train = Dataset.from_pandas(df_train)\n",
    "dataset_validation = Dataset.from_pandas(df_validation)\n",
    "dataset_test = Dataset.from_pandas(df_test)\n",
    "dataset_test_fb = dataset_test.filter(lambda x: x[\"type\"] == \"fb_sent\")\n",
    "dataset_test_ps = dataset_test.filter(lambda x: x[\"type\"] == \"ps_sent\")"
   ]
  },
  {
   "cell_type": "markdown",
   "id": "special-algeria",
   "metadata": {},
   "source": [
    "### Tokenize dataset"
   ]
  },
  {
   "cell_type": "code",
   "execution_count": 6,
   "id": "boring-buyer",
   "metadata": {},
   "outputs": [
    {
     "name": "stderr",
     "output_type": "stream",
     "text": [
      "Some weights of the model checkpoint at german-nlp-group/electra-base-german-uncased were not used when initializing ElectraForSequenceClassification: ['discriminator_predictions.dense.weight', 'discriminator_predictions.dense.bias', 'discriminator_predictions.dense_prediction.weight', 'discriminator_predictions.dense_prediction.bias']\n",
      "- This IS expected if you are initializing ElectraForSequenceClassification from the checkpoint of a model trained on another task or with another architecture (e.g. initializing a BertForSequenceClassification model from a BertForPreTraining model).\n",
      "- This IS NOT expected if you are initializing ElectraForSequenceClassification from the checkpoint of a model that you expect to be exactly identical (initializing a BertForSequenceClassification model from a BertForSequenceClassification model).\n",
      "Some weights of ElectraForSequenceClassification were not initialized from the model checkpoint at german-nlp-group/electra-base-german-uncased and are newly initialized: ['classifier.dense.weight', 'classifier.dense.bias', 'classifier.out_proj.weight', 'classifier.out_proj.bias']\n",
      "You should probably TRAIN this model on a down-stream task to be able to use it for predictions and inference.\n"
     ]
    },
    {
     "data": {
      "application/vnd.jupyter.widget-view+json": {
       "model_id": "3cfdaf4b231342e1be05bc97a91273d8",
       "version_major": 2,
       "version_minor": 0
      },
      "text/plain": [
       "HBox(children=(FloatProgress(value=0.0, max=1.0), HTML(value='')))"
      ]
     },
     "metadata": {},
     "output_type": "display_data"
    },
    {
     "name": "stdout",
     "output_type": "stream",
     "text": [
      "\n"
     ]
    },
    {
     "data": {
      "application/vnd.jupyter.widget-view+json": {
       "model_id": "90163ccc271e493f9c59e35df5ae7fbe",
       "version_major": 2,
       "version_minor": 0
      },
      "text/plain": [
       "HBox(children=(FloatProgress(value=0.0, max=1.0), HTML(value='')))"
      ]
     },
     "metadata": {},
     "output_type": "display_data"
    },
    {
     "name": "stdout",
     "output_type": "stream",
     "text": [
      "\n"
     ]
    }
   ],
   "source": [
    "# load model and tokenizer\n",
    "model = AutoModelForSequenceClassification.from_pretrained(MODEL_NAME, num_labels=8)\n",
    "tokenizer = AutoTokenizer.from_pretrained(MODEL_NAME)\n",
    "\n",
    "# preprocess data\n",
    "field_text = \"sentences\"\n",
    "field_label = \"list\"\n",
    "\n",
    "dataset_train = Dataset.from_pandas(df_train)\n",
    "dataset_validation = Dataset.from_pandas(df_validation)\n",
    "dataset_test = Dataset.from_pandas(df_test)\n",
    "dataset_test_fb = dataset_test.filter(lambda x: x[\"type\"] == \"fb_sent\")\n",
    "dataset_test_ps = dataset_test.filter(lambda x: x[\"type\"] == \"ps_sent\")\n",
    "\n",
    "# tokenize data\n",
    "train_encodings = tokenizer(dataset_train[field_text], truncation=True, padding=True)\n",
    "val_encodings = tokenizer(dataset_validation[field_text], truncation=True, padding=True)\n",
    "test_encodings = tokenizer(dataset_test[field_text], truncation=True, padding=True)\n",
    "test_fb_encodings = tokenizer(\n",
    "    dataset_test_fb[field_text], truncation=True, padding=True\n",
    ")\n",
    "test_ps_encodings = tokenizer(\n",
    "    dataset_test_ps[field_text], truncation=True, padding=True\n",
    ")\n",
    "\n",
    "train_dataset = tr.EmotionDataset(train_encodings, dataset_train[field_label])\n",
    "val_dataset = tr.EmotionDataset(val_encodings, dataset_validation[field_label])\n",
    "test_dataset = tr.EmotionDataset(test_encodings, dataset_test[field_label])\n",
    "test_fb_dataset = tr.EmotionDataset(test_fb_encodings, dataset_test_fb[field_label])\n",
    "test_ps_dataset = tr.EmotionDataset(test_ps_encodings, dataset_test_ps[field_label])"
   ]
  },
  {
   "cell_type": "markdown",
   "id": "embedded-triangle",
   "metadata": {},
   "source": [
    "## Train model"
   ]
  },
  {
   "cell_type": "code",
   "execution_count": 7,
   "id": "exempt-advertising",
   "metadata": {},
   "outputs": [
    {
     "name": "stderr",
     "output_type": "stream",
     "text": [
      "\u001b[34m\u001b[1mwandb\u001b[0m: Currently logged in as: \u001b[33mmawic\u001b[0m (use `wandb login --relogin` to force relogin)\n",
      "\u001b[34m\u001b[1mwandb\u001b[0m: wandb version 0.10.29 is available!  To upgrade, please run:\n",
      "\u001b[34m\u001b[1mwandb\u001b[0m:  $ pip install wandb --upgrade\n"
     ]
    },
    {
     "data": {
      "text/html": [
       "\n",
       "                Tracking run with wandb version 0.10.23<br/>\n",
       "                Syncing run <strong style=\"color:#cdcd00\">german-nlp-group/electra-base-german-uncased</strong> to <a href=\"https://wandb.ai\" target=\"_blank\">Weights & Biases</a> <a href=\"https://docs.wandb.com/integrations/jupyter.html\" target=\"_blank\">(Documentation)</a>.<br/>\n",
       "                Project page: <a href=\"https://wandb.ai/mawic/huggingface\" target=\"_blank\">https://wandb.ai/mawic/huggingface</a><br/>\n",
       "                Run page: <a href=\"https://wandb.ai/mawic/huggingface/runs/2pgj0kum\" target=\"_blank\">https://wandb.ai/mawic/huggingface/runs/2pgj0kum</a><br/>\n",
       "                Run data is saved locally in <code>/home/mwich/ed8-transformer-classifier/wandb/run-20210506_093218-2pgj0kum</code><br/><br/>\n",
       "            "
      ],
      "text/plain": [
       "<IPython.core.display.HTML object>"
      ]
     },
     "metadata": {},
     "output_type": "display_data"
    },
    {
     "name": "stderr",
     "output_type": "stream",
     "text": [
      "/home/mwich/anaconda3/envs/emotions/lib/python3.7/site-packages/torch/nn/modules/module.py:760: UserWarning: Using non-full backward hooks on a Module that does not return a single Tensor or a tuple of Tensors is deprecated and will be removed in future versions. This hook will be missing some of the grad_output. Please use register_full_backward_hook to get the documented behavior.\n",
      "  warnings.warn(\"Using non-full backward hooks on a Module that does not return a \"\n",
      "/home/mwich/anaconda3/envs/emotions/lib/python3.7/site-packages/torch/nn/modules/module.py:795: UserWarning: Using a non-full backward hook when the forward contains multiple autograd Nodes is deprecated and will be removed in future versions. This hook will be missing some grad_input. Please use register_full_backward_hook to get the documented behavior.\n",
      "  warnings.warn(\"Using a non-full backward hook when the forward contains multiple autograd Nodes \"\n"
     ]
    },
    {
     "data": {
      "text/html": [
       "\n",
       "    <div>\n",
       "        <style>\n",
       "            /* Turns off some styling */\n",
       "            progress {\n",
       "                /* gets rid of default border in Firefox and Opera. */\n",
       "                border: none;\n",
       "                /* Needs to be in here for Safari polyfill so background images work as expected. */\n",
       "                background-size: auto;\n",
       "            }\n",
       "        </style>\n",
       "      \n",
       "      <progress value='1004' max='1004' style='width:300px; height:20px; vertical-align: middle;'></progress>\n",
       "      [1004/1004 08:14, Epoch 4/4]\n",
       "    </div>\n",
       "    <table border=\"1\" class=\"dataframe\">\n",
       "  <thead>\n",
       "    <tr style=\"text-align: left;\">\n",
       "      <th>Epoch</th>\n",
       "      <th>Training Loss</th>\n",
       "      <th>Validation Loss</th>\n",
       "      <th>Accuracy Thresh</th>\n",
       "      <th>F1 Loss</th>\n",
       "      <th>Runtime</th>\n",
       "      <th>Samples Per Second</th>\n",
       "    </tr>\n",
       "  </thead>\n",
       "  <tbody>\n",
       "    <tr>\n",
       "      <td>1</td>\n",
       "      <td>No log</td>\n",
       "      <td>0.341154</td>\n",
       "      <td>0.853030</td>\n",
       "      <td>8.093995</td>\n",
       "      <td>2.015100</td>\n",
       "      <td>491.289000</td>\n",
       "    </tr>\n",
       "    <tr>\n",
       "      <td>2</td>\n",
       "      <td>0.396700</td>\n",
       "      <td>0.307472</td>\n",
       "      <td>0.864520</td>\n",
       "      <td>6.173054</td>\n",
       "      <td>2.168200</td>\n",
       "      <td>456.610000</td>\n",
       "    </tr>\n",
       "    <tr>\n",
       "      <td>3</td>\n",
       "      <td>0.396700</td>\n",
       "      <td>0.314565</td>\n",
       "      <td>0.863384</td>\n",
       "      <td>5.354288</td>\n",
       "      <td>2.051000</td>\n",
       "      <td>482.702000</td>\n",
       "    </tr>\n",
       "    <tr>\n",
       "      <td>4</td>\n",
       "      <td>0.229800</td>\n",
       "      <td>0.318964</td>\n",
       "      <td>0.866667</td>\n",
       "      <td>5.469135</td>\n",
       "      <td>2.012100</td>\n",
       "      <td>492.026000</td>\n",
       "    </tr>\n",
       "  </tbody>\n",
       "</table><p>"
      ],
      "text/plain": [
       "<IPython.core.display.HTML object>"
      ]
     },
     "metadata": {},
     "output_type": "display_data"
    },
    {
     "data": {
      "text/html": [
       "\n",
       "    <div>\n",
       "        <style>\n",
       "            /* Turns off some styling */\n",
       "            progress {\n",
       "                /* gets rid of default border in Firefox and Opera. */\n",
       "                border: none;\n",
       "                /* Needs to be in here for Safari polyfill so background images work as expected. */\n",
       "                background-size: auto;\n",
       "            }\n",
       "        </style>\n",
       "      \n",
       "      <progress value='94' max='31' style='width:300px; height:20px; vertical-align: middle;'></progress>\n",
       "      [31/31 00:08]\n",
       "    </div>\n",
       "    "
      ],
      "text/plain": [
       "<IPython.core.display.HTML object>"
      ]
     },
     "metadata": {},
     "output_type": "display_data"
    }
   ],
   "source": [
    "training_args = TrainingArguments(\n",
    "    output_dir=DIR_OUTPT,  # output directory\n",
    "    num_train_epochs=4,  # total # of training epochs\n",
    "    per_device_train_batch_size=32,  # batch size per device during training\n",
    "    per_device_eval_batch_size=32,  # batch size for evaluation\n",
    "    warmup_steps=250,  # number of warmup steps for learning rate scheduler\n",
    "    weight_decay=0.01,  # strength of weight decay\n",
    "    logging_dir=DIR_LOG,  # directory for storing logs\n",
    "    seed=SEED,\n",
    "    evaluation_strategy=\"epoch\",\n",
    "    load_best_model_at_end=True,\n",
    "    metric_for_best_model=\"f1_loss\",\n",
    "    greater_is_better=False,\n",
    "    run_name=MODEL_NAME,\n",
    ")\n",
    "\n",
    "trainer = tr.MultilabelTrainer(\n",
    "    model=model,\n",
    "    args=training_args,\n",
    "    train_dataset=train_dataset,\n",
    "    eval_dataset=test_dataset,\n",
    "    compute_metrics=tr.compute_metrics,\n",
    ")\n",
    "\n",
    "_ = trainer.train()\n",
    "trainer.evaluate()\n",
    "\n",
    "trainer.model.save_pretrained(f\"{DIR_TRAINED_MODEL}/{MODEL_NAME}/\")"
   ]
  },
  {
   "cell_type": "markdown",
   "id": "competent-thumbnail",
   "metadata": {},
   "source": [
    "## Evaluate model on test set"
   ]
  },
  {
   "cell_type": "code",
   "execution_count": 8,
   "id": "moral-cigarette",
   "metadata": {},
   "outputs": [],
   "source": [
    "results_all = trainer.predict(test_dataset)\n",
    "results_fb = trainer.predict(test_fb_dataset)\n",
    "results_ps = trainer.predict(test_ps_dataset)"
   ]
  },
  {
   "cell_type": "markdown",
   "id": "central-production",
   "metadata": {},
   "source": [
    "### Complete test set"
   ]
  },
  {
   "cell_type": "code",
   "execution_count": 9,
   "id": "delayed-mason",
   "metadata": {},
   "outputs": [
    {
     "data": {
      "text/html": [
       "<div>\n",
       "<style scoped>\n",
       "    .dataframe tbody tr th:only-of-type {\n",
       "        vertical-align: middle;\n",
       "    }\n",
       "\n",
       "    .dataframe tbody tr th {\n",
       "        vertical-align: top;\n",
       "    }\n",
       "\n",
       "    .dataframe thead th {\n",
       "        text-align: right;\n",
       "    }\n",
       "</style>\n",
       "<table border=\"1\" class=\"dataframe\">\n",
       "  <thead>\n",
       "    <tr style=\"text-align: right;\">\n",
       "      <th></th>\n",
       "      <th>emotion</th>\n",
       "      <th>Recall</th>\n",
       "      <th>Precision</th>\n",
       "      <th>F1</th>\n",
       "    </tr>\n",
       "  </thead>\n",
       "  <tbody>\n",
       "    <tr>\n",
       "      <th>0</th>\n",
       "      <td>hf_anger</td>\n",
       "      <td>0.821</td>\n",
       "      <td>0.863</td>\n",
       "      <td>0.842</td>\n",
       "    </tr>\n",
       "    <tr>\n",
       "      <th>1</th>\n",
       "      <td>hf_fear</td>\n",
       "      <td>0.677</td>\n",
       "      <td>0.612</td>\n",
       "      <td>0.643</td>\n",
       "    </tr>\n",
       "    <tr>\n",
       "      <th>2</th>\n",
       "      <td>hf_disgust</td>\n",
       "      <td>0.651</td>\n",
       "      <td>0.622</td>\n",
       "      <td>0.636</td>\n",
       "    </tr>\n",
       "    <tr>\n",
       "      <th>3</th>\n",
       "      <td>hf_sadness</td>\n",
       "      <td>0.592</td>\n",
       "      <td>0.607</td>\n",
       "      <td>0.599</td>\n",
       "    </tr>\n",
       "    <tr>\n",
       "      <th>4</th>\n",
       "      <td>hf_joy</td>\n",
       "      <td>0.552</td>\n",
       "      <td>0.705</td>\n",
       "      <td>0.620</td>\n",
       "    </tr>\n",
       "    <tr>\n",
       "      <th>5</th>\n",
       "      <td>hf_enthusiasm</td>\n",
       "      <td>0.709</td>\n",
       "      <td>0.627</td>\n",
       "      <td>0.665</td>\n",
       "    </tr>\n",
       "    <tr>\n",
       "      <th>6</th>\n",
       "      <td>hf_pride</td>\n",
       "      <td>0.576</td>\n",
       "      <td>0.607</td>\n",
       "      <td>0.591</td>\n",
       "    </tr>\n",
       "    <tr>\n",
       "      <th>7</th>\n",
       "      <td>hf_hope</td>\n",
       "      <td>0.784</td>\n",
       "      <td>0.677</td>\n",
       "      <td>0.726</td>\n",
       "    </tr>\n",
       "  </tbody>\n",
       "</table>\n",
       "</div>"
      ],
      "text/plain": [
       "         emotion  Recall  Precision     F1\n",
       "0       hf_anger   0.821      0.863  0.842\n",
       "1        hf_fear   0.677      0.612  0.643\n",
       "2     hf_disgust   0.651      0.622  0.636\n",
       "3     hf_sadness   0.592      0.607  0.599\n",
       "4         hf_joy   0.552      0.705  0.620\n",
       "5  hf_enthusiasm   0.709      0.627  0.665\n",
       "6       hf_pride   0.576      0.607  0.591\n",
       "7        hf_hope   0.784      0.677  0.726"
      ]
     },
     "execution_count": 9,
     "metadata": {},
     "output_type": "execute_result"
    }
   ],
   "source": [
    "data = dict({\"emotion\": emotions})\n",
    "to_add = {\n",
    "    \"Recall\": tr.compute_fine_metrics2(results_all, emotions)[\"recall\"],\n",
    "    \"Precision\": tr.compute_fine_metrics2(results_all, emotions)[\"precision\"],\n",
    "    \"F1\": tr.compute_fine_metrics2(results_all, emotions)[\"f1\"],\n",
    "}\n",
    "df = pd.DataFrame.from_dict(dict(data, **to_add))\n",
    "df"
   ]
  },
  {
   "cell_type": "markdown",
   "id": "imported-freight",
   "metadata": {},
   "source": [
    "### Facebook test set"
   ]
  },
  {
   "cell_type": "code",
   "execution_count": 10,
   "id": "mediterranean-utility",
   "metadata": {},
   "outputs": [
    {
     "data": {
      "text/html": [
       "<div>\n",
       "<style scoped>\n",
       "    .dataframe tbody tr th:only-of-type {\n",
       "        vertical-align: middle;\n",
       "    }\n",
       "\n",
       "    .dataframe tbody tr th {\n",
       "        vertical-align: top;\n",
       "    }\n",
       "\n",
       "    .dataframe thead th {\n",
       "        text-align: right;\n",
       "    }\n",
       "</style>\n",
       "<table border=\"1\" class=\"dataframe\">\n",
       "  <thead>\n",
       "    <tr style=\"text-align: right;\">\n",
       "      <th></th>\n",
       "      <th>emotion</th>\n",
       "      <th>Recall</th>\n",
       "      <th>Precision</th>\n",
       "      <th>F1</th>\n",
       "    </tr>\n",
       "  </thead>\n",
       "  <tbody>\n",
       "    <tr>\n",
       "      <th>0</th>\n",
       "      <td>hf_anger</td>\n",
       "      <td>0.825</td>\n",
       "      <td>0.846</td>\n",
       "      <td>0.835</td>\n",
       "    </tr>\n",
       "    <tr>\n",
       "      <th>1</th>\n",
       "      <td>hf_fear</td>\n",
       "      <td>0.741</td>\n",
       "      <td>0.640</td>\n",
       "      <td>0.687</td>\n",
       "    </tr>\n",
       "    <tr>\n",
       "      <th>2</th>\n",
       "      <td>hf_disgust</td>\n",
       "      <td>0.729</td>\n",
       "      <td>0.652</td>\n",
       "      <td>0.688</td>\n",
       "    </tr>\n",
       "    <tr>\n",
       "      <th>3</th>\n",
       "      <td>hf_sadness</td>\n",
       "      <td>0.681</td>\n",
       "      <td>0.658</td>\n",
       "      <td>0.670</td>\n",
       "    </tr>\n",
       "    <tr>\n",
       "      <th>4</th>\n",
       "      <td>hf_joy</td>\n",
       "      <td>0.590</td>\n",
       "      <td>0.700</td>\n",
       "      <td>0.641</td>\n",
       "    </tr>\n",
       "    <tr>\n",
       "      <th>5</th>\n",
       "      <td>hf_enthusiasm</td>\n",
       "      <td>0.720</td>\n",
       "      <td>0.669</td>\n",
       "      <td>0.693</td>\n",
       "    </tr>\n",
       "    <tr>\n",
       "      <th>6</th>\n",
       "      <td>hf_pride</td>\n",
       "      <td>0.582</td>\n",
       "      <td>0.654</td>\n",
       "      <td>0.616</td>\n",
       "    </tr>\n",
       "    <tr>\n",
       "      <th>7</th>\n",
       "      <td>hf_hope</td>\n",
       "      <td>0.828</td>\n",
       "      <td>0.741</td>\n",
       "      <td>0.782</td>\n",
       "    </tr>\n",
       "  </tbody>\n",
       "</table>\n",
       "</div>"
      ],
      "text/plain": [
       "         emotion  Recall  Precision     F1\n",
       "0       hf_anger   0.825      0.846  0.835\n",
       "1        hf_fear   0.741      0.640  0.687\n",
       "2     hf_disgust   0.729      0.652  0.688\n",
       "3     hf_sadness   0.681      0.658  0.670\n",
       "4         hf_joy   0.590      0.700  0.641\n",
       "5  hf_enthusiasm   0.720      0.669  0.693\n",
       "6       hf_pride   0.582      0.654  0.616\n",
       "7        hf_hope   0.828      0.741  0.782"
      ]
     },
     "execution_count": 10,
     "metadata": {},
     "output_type": "execute_result"
    }
   ],
   "source": [
    "data = dict({\"emotion\": emotions})\n",
    "to_add = {\n",
    "    \"Recall\": tr.compute_fine_metrics2(results_fb, emotions)[\"recall\"],\n",
    "    \"Precision\": tr.compute_fine_metrics2(results_fb, emotions)[\"precision\"],\n",
    "    \"F1\": tr.compute_fine_metrics2(results_fb, emotions)[\"f1\"],\n",
    "}\n",
    "df = pd.DataFrame.from_dict(dict(data, **to_add))\n",
    "df"
   ]
  },
  {
   "cell_type": "markdown",
   "id": "controlling-sunday",
   "metadata": {},
   "source": [
    "### Parliament speech test set"
   ]
  },
  {
   "cell_type": "code",
   "execution_count": 11,
   "id": "fiscal-gateway",
   "metadata": {},
   "outputs": [
    {
     "data": {
      "text/html": [
       "<div>\n",
       "<style scoped>\n",
       "    .dataframe tbody tr th:only-of-type {\n",
       "        vertical-align: middle;\n",
       "    }\n",
       "\n",
       "    .dataframe tbody tr th {\n",
       "        vertical-align: top;\n",
       "    }\n",
       "\n",
       "    .dataframe thead th {\n",
       "        text-align: right;\n",
       "    }\n",
       "</style>\n",
       "<table border=\"1\" class=\"dataframe\">\n",
       "  <thead>\n",
       "    <tr style=\"text-align: right;\">\n",
       "      <th></th>\n",
       "      <th>emotion</th>\n",
       "      <th>Recall</th>\n",
       "      <th>Precision</th>\n",
       "      <th>F1</th>\n",
       "    </tr>\n",
       "  </thead>\n",
       "  <tbody>\n",
       "    <tr>\n",
       "      <th>0</th>\n",
       "      <td>hf_anger</td>\n",
       "      <td>0.816</td>\n",
       "      <td>0.882</td>\n",
       "      <td>0.848</td>\n",
       "    </tr>\n",
       "    <tr>\n",
       "      <th>1</th>\n",
       "      <td>hf_fear</td>\n",
       "      <td>0.593</td>\n",
       "      <td>0.571</td>\n",
       "      <td>0.582</td>\n",
       "    </tr>\n",
       "    <tr>\n",
       "      <th>2</th>\n",
       "      <td>hf_disgust</td>\n",
       "      <td>0.481</td>\n",
       "      <td>0.542</td>\n",
       "      <td>0.510</td>\n",
       "    </tr>\n",
       "    <tr>\n",
       "      <th>3</th>\n",
       "      <td>hf_sadness</td>\n",
       "      <td>0.477</td>\n",
       "      <td>0.532</td>\n",
       "      <td>0.503</td>\n",
       "    </tr>\n",
       "    <tr>\n",
       "      <th>4</th>\n",
       "      <td>hf_joy</td>\n",
       "      <td>0.500</td>\n",
       "      <td>0.714</td>\n",
       "      <td>0.588</td>\n",
       "    </tr>\n",
       "    <tr>\n",
       "      <th>5</th>\n",
       "      <td>hf_enthusiasm</td>\n",
       "      <td>0.693</td>\n",
       "      <td>0.570</td>\n",
       "      <td>0.626</td>\n",
       "    </tr>\n",
       "    <tr>\n",
       "      <th>6</th>\n",
       "      <td>hf_pride</td>\n",
       "      <td>0.567</td>\n",
       "      <td>0.551</td>\n",
       "      <td>0.559</td>\n",
       "    </tr>\n",
       "    <tr>\n",
       "      <th>7</th>\n",
       "      <td>hf_hope</td>\n",
       "      <td>0.728</td>\n",
       "      <td>0.604</td>\n",
       "      <td>0.660</td>\n",
       "    </tr>\n",
       "  </tbody>\n",
       "</table>\n",
       "</div>"
      ],
      "text/plain": [
       "         emotion  Recall  Precision     F1\n",
       "0       hf_anger   0.816      0.882  0.848\n",
       "1        hf_fear   0.593      0.571  0.582\n",
       "2     hf_disgust   0.481      0.542  0.510\n",
       "3     hf_sadness   0.477      0.532  0.503\n",
       "4         hf_joy   0.500      0.714  0.588\n",
       "5  hf_enthusiasm   0.693      0.570  0.626\n",
       "6       hf_pride   0.567      0.551  0.559\n",
       "7        hf_hope   0.728      0.604  0.660"
      ]
     },
     "execution_count": 11,
     "metadata": {},
     "output_type": "execute_result"
    }
   ],
   "source": [
    "data = dict({\"emotion\": emotions})\n",
    "to_add = {\n",
    "    \"Recall\": tr.compute_fine_metrics2(results_ps, emotions)[\"recall\"],\n",
    "    \"Precision\": tr.compute_fine_metrics2(results_ps, emotions)[\"precision\"],\n",
    "    \"F1\": tr.compute_fine_metrics2(results_ps, emotions)[\"f1\"],\n",
    "}\n",
    "df = pd.DataFrame.from_dict(dict(data, **to_add))\n",
    "df"
   ]
  }
 ],
 "metadata": {
  "environment": {
   "name": "common-cu110.m68",
   "type": "gcloud",
   "uri": "gcr.io/deeplearning-platform-release/base-cu110:m68"
  },
  "kernelspec": {
   "display_name": "Python [conda env:root] *",
   "language": "python",
   "name": "conda-root-py"
  },
  "language_info": {
   "codemirror_mode": {
    "name": "ipython",
    "version": 3
   },
   "file_extension": ".py",
   "mimetype": "text/x-python",
   "name": "python",
   "nbconvert_exporter": "python",
   "pygments_lexer": "ipython3",
   "version": "3.7.10"
  }
 },
 "nbformat": 4,
 "nbformat_minor": 5
}
